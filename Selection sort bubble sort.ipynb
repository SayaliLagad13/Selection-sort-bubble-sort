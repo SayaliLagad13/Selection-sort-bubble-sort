{
 "cells": [
  {
   "cell_type": "code",
   "execution_count": null,
   "id": "190c212f",
   "metadata": {},
   "outputs": [
    {
     "name": "stdout",
     "output_type": "stream",
     "text": [
      "Enter number of students whose marks are to be displayed : 5\n",
      "Enter marks for 5 students (Press ENTER after every students marks): \n",
      "30\n",
      "80\n",
      "70\n",
      "40\n",
      "90\n",
      "The marks of 5 students are : \n",
      "[30, 80, 70, 40, 90]\n",
      "\n",
      "---------------MENU---------------\n",
      "1. Selection Sort of the marks\n",
      "2. Bubble Sort of the marks\n",
      "\n",
      "\n",
      "Enter your choice : 1\n",
      "Marks of students after performing Selection Sort on the list :  [90, 40, 70, 80, 30]\n",
      "\n",
      "display top marks:\n",
      "Top 5 Marks are :  [30, 80, 70, 40, 90]\n",
      "\n",
      "---------------MENU---------------\n",
      "1. Selection Sort of the marks\n",
      "2. Bubble Sort of the marks\n",
      "\n",
      "\n",
      "Enter your choice : 2\n",
      "Marks of students after performing Bubble Sort on the list : [90, 80, 70, 40, 30]\n",
      "\n",
      " display top five marks from the list  : \n",
      "Top 5 Marks are :  [30, 40, 70, 80, 90]\n",
      "\n",
      "---------------MENU---------------\n",
      "1. Selection Sort of the marks\n",
      "2. Bubble Sort of the marks\n"
     ]
    }
   ],
   "source": [
    "def Selection_Sort(marks):\n",
    "    for i in range(n):\n",
    "        min=i\n",
    "        for j in range(i + 1, n):\n",
    "            if marks[min] > marks[j]:\n",
    "                min=j\n",
    "                marks[i], marks[min] = marks[min], marks[i]\n",
    "    print(\"Marks of students after performing Selection Sort on the list : \",marks)\n",
    "#<--------------------------------------------------------------------------------------->\n",
    "def Bubble_Sort(marks):\n",
    "    for i in range(n):\n",
    "        for j in range(0, n - i - 1):\n",
    "            if marks[j] > marks[j + 1]:\n",
    "                marks[j], marks[j + 1] = marks[j + 1], marks[j]\n",
    "    print(\"Marks of students after performing Bubble Sort on the list :\",marks)\n",
    "#<--------------------------------------------------------------------------------------->\n",
    "def top_five_marks(marks):\n",
    "    print(\"Top 5 Marks are : \",marks[:-6:-1])\n",
    "#<---------------------------------------------------------------------------------------->\n",
    "# Main\n",
    "marks=[]\n",
    "n = int(input(\"Enter number of students whose marks are to be displayed : \"))\n",
    "print(\"Enter marks for\",n,\"students (Press ENTER after every students marks): \")\n",
    "for i in range(0, n):\n",
    "    ele = int(input())\n",
    "    marks.append(ele)  # adding the element\n",
    "\n",
    "print(\"The marks of\",n,\"students are : \")\n",
    "print(marks)\n",
    "while True:\n",
    "    print(\"\\n---------------MENU---------------\")\n",
    "    print(\"1. Selection Sort of the marks\")\n",
    "    print(\"2. Bubble Sort of the marks\")\n",
    "    \n",
    "    ch=int(input(\"\\n\\nEnter your choice : \"))\n",
    "    if ch==1:\n",
    "        Selection_Sort(marks)\n",
    "        print(\"\\ndisplay top marks:\")\n",
    "        top_five_marks(marks)\n",
    "    elif ch==2:\n",
    "        Bubble_Sort(marks)\n",
    "        print(\"\\n display top five marks from the list  : \")\n",
    "        top_five_marks(marks)\n",
    "    else:\n",
    "        print(\"\\nEnter a valid choice!!\")"
   ]
  },
  {
   "cell_type": "code",
   "execution_count": null,
   "id": "751e8556",
   "metadata": {},
   "outputs": [],
   "source": []
  }
 ],
 "metadata": {
  "kernelspec": {
   "display_name": "Python 3 (ipykernel)",
   "language": "python",
   "name": "python3"
  },
  "language_info": {
   "codemirror_mode": {
    "name": "ipython",
    "version": 3
   },
   "file_extension": ".py",
   "mimetype": "text/x-python",
   "name": "python",
   "nbconvert_exporter": "python",
   "pygments_lexer": "ipython3",
   "version": "3.9.13"
  }
 },
 "nbformat": 4,
 "nbformat_minor": 5
}
